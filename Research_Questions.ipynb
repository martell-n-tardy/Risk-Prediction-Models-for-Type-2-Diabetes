{
  "nbformat": 4,
  "nbformat_minor": 0,
  "metadata": {
    "colab": {
      "name": "Research Questions.ipynb",
      "provenance": [],
      "collapsed_sections": [],
      "authorship_tag": "ABX9TyNzIM3o9QzbmnAY6KbiUzyc",
      "include_colab_link": true
    },
    "kernelspec": {
      "name": "python3",
      "display_name": "Python 3"
    },
    "language_info": {
      "name": "python"
    }
  },
  "cells": [
    {
      "cell_type": "markdown",
      "metadata": {
        "id": "view-in-github",
        "colab_type": "text"
      },
      "source": [
        "<a href=\"https://colab.research.google.com/github/martell-n-tardy/Risk-Prediction-Models-for-Type-2-Diabetes/blob/main/Research_Questions.ipynb\" target=\"_parent\"><img src=\"https://colab.research.google.com/assets/colab-badge.svg\" alt=\"Open In Colab\"/></a>"
      ]
    },
    {
      "cell_type": "markdown",
      "metadata": {
        "id": "Of1fblHY8SH7"
      },
      "source": [
        "# **Exploring the BRFSS data - By Martell Tardy, M.S.**"
      ]
    },
    {
      "cell_type": "markdown",
      "metadata": {
        "id": "ndbISLWZ8gYG"
      },
      "source": [
        "# Load packages"
      ]
    },
    {
      "cell_type": "code",
      "metadata": {
        "colab": {
          "base_uri": "https://localhost:8080/",
          "height": 198
        },
        "id": "9-iW_Smx8qZ-",
        "outputId": "249e4c5a-a3f2-47e0-afe6-1d3739b8e0af"
      },
      "source": [
        "import pandas as pd\n",
        "import numpy as np"
      ],
      "execution_count": 1,
      "outputs": [
        {
          "output_type": "error",
          "ename": "NameError",
          "evalue": "ignored",
          "traceback": [
            "\u001b[0;31m---------------------------------------------------------------------------\u001b[0m",
            "\u001b[0;31mNameError\u001b[0m                                 Traceback (most recent call last)",
            "\u001b[0;32m<ipython-input-1-e312c5d4c70c>\u001b[0m in \u001b[0;36m<module>\u001b[0;34m()\u001b[0m\n\u001b[0;32m----> 1\u001b[0;31m \u001b[0mlibrary\u001b[0m\u001b[0;34m(\u001b[0m\u001b[0mggplot2\u001b[0m\u001b[0;34m)\u001b[0m\u001b[0;34m\u001b[0m\u001b[0;34m\u001b[0m\u001b[0m\n\u001b[0m\u001b[1;32m      2\u001b[0m \u001b[0mlibrary\u001b[0m\u001b[0;34m(\u001b[0m\u001b[0mdplyr\u001b[0m\u001b[0;34m)\u001b[0m\u001b[0;34m\u001b[0m\u001b[0;34m\u001b[0m\u001b[0m\n\u001b[1;32m      3\u001b[0m \u001b[0mlibrary\u001b[0m\u001b[0;34m(\u001b[0m\u001b[0mcorrplot\u001b[0m\u001b[0;34m)\u001b[0m\u001b[0;34m\u001b[0m\u001b[0;34m\u001b[0m\u001b[0m\n",
            "\u001b[0;31mNameError\u001b[0m: name 'library' is not defined"
          ]
        }
      ]
    },
    {
      "cell_type": "markdown",
      "metadata": {
        "id": "iR12Qk-q8tDC"
      },
      "source": [
        "# Load data"
      ]
    },
    {
      "cell_type": "code",
      "metadata": {
        "id": "cD-7Av1M854B"
      },
      "source": [
        "#mount Drive and grant access\n",
        "from google.colab import drive\n",
        "drive.mount('/content/drive')\n",
        "\n",
        "#read in data and save as variable df\n",
        "df = pd.read_csv('/content/drive/MyDrive/SPRINGBOARD/CAPSTONE 3/BRFSS Data/Interim/manualfs_2015.csv')"
      ],
      "execution_count": null,
      "outputs": []
    },
    {
      "cell_type": "markdown",
      "metadata": {
        "id": "cxv49S4p7cLF"
      },
      "source": [
        "# Part 1: Data"
      ]
    },
    {
      "cell_type": "markdown",
      "metadata": {
        "id": "b2kjpPO-9I__"
      },
      "source": [
        "Review the final features chosen for the project."
      ]
    },
    {
      "cell_type": "markdown",
      "metadata": {
        "id": "_ePvIJ0V9Qzj"
      },
      "source": [
        "# Part 2: Research questions"
      ]
    },
    {
      "cell_type": "markdown",
      "metadata": {
        "id": "0VS_gNWX9WPs"
      },
      "source": [
        "**Research question 1:** In the diabetic sample population (`TYPE2`), is there a difference between males and females and the incidence of diabetes type 2? The question looks to determine if gender has any relationship between increased prevalence of diabetes among either the male or female population.\n",
        "\n",
        "**Research question 2:** What is the probability that participants with access to health care coverage (`?`) will have been diagnosed with diabetes (`DIABETE3`)? and how many of these participants were diagnosed with type 2 diabetes (`TYPE2`)? The question looks to determine whether there is a relationship between participants with health care coverage and therefore, being able to afford the cost of diabetic screening and participants diagnosed with diabetes. \n",
        "\n",
        "**Research question 3:** Is there an association between age (`AGEG5YR`) and a participant being told diabetes has affected their eyesight (`?`)? The question looks to determine whether there is a relationship between blindness and age within the diabetic sample population. This is of interest because diabetic retinopathy is a leading cause of blindness among the elderly diabetic population.\n",
        "\n",
        "**Research question 4:** Is there an association between being diagnosed with a heart attack (`?`) and Body Mass Index (`_BMI5CAT`) among participants who are diabetic? This question looks to determine whether there is a relationship between Body Mass Index and heart attacks among diabetics.\n",
        "\n",
        "**Research question 5:** Is there an association between participants who have ever smoked tobacco or consumed alcohol and the participants diagnosed as diabetic? This question looks to determine whether there is a relationship between the amount of tobacco and or alcohol consumed amongst those participants with diabetes.\n",
        "\n",
        "**Research question 6:** Is there an association between a participants intake of fruits and vegetables and a diagnosis of diabetes? This question looks to determine whether there is a relationship between a healthy diet and diabetes.\n",
        "\n",
        "**Research question 7:** What is the probability that participants with regular exercise have diabetes? This question looks to determine whether there is a relationship between the various levels of physical ativity a participant does and their likelihood of being diabetic.\n",
        "\n",
        "**Research question 8:** Is there an association between where a participant lives and if she/he is diabetic? his question looks to determine whether there is a relationship between the physical state, demographic region (ie. rural, city), and diabetic status of a participant.\n",
        "\n",
        "**Research question 9:** What is the probability of participants being diagnosed with some form of diabetes and having an advance degree? This question looks to determine whether there is a relationship between pre-diabetes, gestional diabetes, or type 1 diabetes and the education level attained by these participants.\n",
        "\n",
        "**Research question 10:** What is the probability of a diabetic veteran? This question looks to determine whether there is a relationship between the shared occupational experience of retiring from the military and being diagnosed diabetic."
      ]
    },
    {
      "cell_type": "markdown",
      "metadata": {
        "id": "lvYyACOX9f4L"
      },
      "source": [
        "# Part 3: Exploratory data analysis"
      ]
    },
    {
      "cell_type": "markdown",
      "metadata": {
        "id": "iRApBHeP9jej"
      },
      "source": [
        "**Research question 1:** restate question\n",
        "\n",
        "graphs, statistical analysis, etc."
      ]
    }
  ]
}