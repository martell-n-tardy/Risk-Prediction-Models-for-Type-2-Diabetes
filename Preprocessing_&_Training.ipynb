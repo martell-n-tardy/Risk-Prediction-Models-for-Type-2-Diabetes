{
  "nbformat": 4,
  "nbformat_minor": 0,
  "metadata": {
    "colab": {
      "name": "Preprocessing & Training.ipynb",
      "provenance": [],
      "collapsed_sections": [],
      "authorship_tag": "ABX9TyMJxSgdFF1H7f3GFHo+YM9T",
      "include_colab_link": true
    },
    "kernelspec": {
      "name": "python3",
      "display_name": "Python 3"
    },
    "language_info": {
      "name": "python"
    }
  },
  "cells": [
    {
      "cell_type": "markdown",
      "metadata": {
        "id": "view-in-github",
        "colab_type": "text"
      },
      "source": [
        "<a href=\"https://colab.research.google.com/github/martell-n-tardy/Risk-Prediction-Models-for-Type-2-Diabetes/blob/main/Preprocessing_%26_Training.ipynb\" target=\"_parent\"><img src=\"https://colab.research.google.com/assets/colab-badge.svg\" alt=\"Open In Colab\"/></a>"
      ]
    },
    {
      "cell_type": "markdown",
      "metadata": {
        "id": "iLGBKdYiOsV6"
      },
      "source": [
        "# **Preprocessing & Training: BRFSS data - By Martell Tardy, M.S.**"
      ]
    },
    {
      "cell_type": "markdown",
      "metadata": {
        "id": "Fv63x9d1O9MI"
      },
      "source": [
        "# Load packages"
      ]
    },
    {
      "cell_type": "code",
      "metadata": {
        "id": "qTS0zy33N1mO"
      },
      "source": [
        "import pandas as pd\n",
        "import numpy as np\n",
        "from numpy import mean,std\n",
        "import matplotlib.pyplot as plt\n",
        "from matplotlib import pyplot\n",
        "import seaborn as sns\n",
        "import lightgbm as lgb\n",
        "from lightgbm import LGBMClassifier\n",
        "from sklearn.model_selection import cross_val_score\n",
        "from sklearn.model_selection import RepeatedStratifiedKFold\n",
        "from sklearn.model_selection import train_test_split\n",
        "from sklearn import metrics\n",
        "from sklearn.metrics import roc_auc_score,accuracy_score"
      ],
      "execution_count": null,
      "outputs": []
    },
    {
      "cell_type": "markdown",
      "metadata": {
        "id": "Fpf74NDyPZlt"
      },
      "source": [
        "# Load data"
      ]
    },
    {
      "cell_type": "code",
      "metadata": {
        "colab": {
          "base_uri": "https://localhost:8080/"
        },
        "id": "ommBzFBYPaMG",
        "outputId": "f968d895-b772-4721-caac-229bbe9eda17"
      },
      "source": [
        "#mount Drive and grant access\n",
        "from google.colab import drive\n",
        "drive.mount('/content/drive')"
      ],
      "execution_count": null,
      "outputs": [
        {
          "output_type": "stream",
          "name": "stdout",
          "text": [
            "Mounted at /content/drive\n"
          ]
        }
      ]
    },
    {
      "cell_type": "code",
      "metadata": {
        "id": "Fm6o8qvd96L8",
        "colab": {
          "base_uri": "https://localhost:8080/",
          "height": 439
        },
        "outputId": "8eddde02-1ad6-4a2b-e31b-770eab466457"
      },
      "source": [
        "#read in data and save as variable df\n",
        "df = pd.read_csv('/content/drive/MyDrive/SPRINGBOARD/CAPSTONE 3/BRFSS Data/Processed/finalfeats_2015.csv')\n",
        "df"
      ],
      "execution_count": null,
      "outputs": [
        {
          "output_type": "execute_result",
          "data": {
            "text/html": [
              "<div>\n",
              "<style scoped>\n",
              "    .dataframe tbody tr th:only-of-type {\n",
              "        vertical-align: middle;\n",
              "    }\n",
              "\n",
              "    .dataframe tbody tr th {\n",
              "        vertical-align: top;\n",
              "    }\n",
              "\n",
              "    .dataframe thead th {\n",
              "        text-align: right;\n",
              "    }\n",
              "</style>\n",
              "<table border=\"1\" class=\"dataframe\">\n",
              "  <thead>\n",
              "    <tr style=\"text-align: right;\">\n",
              "      <th></th>\n",
              "      <th>state</th>\n",
              "      <th>prediabetes</th>\n",
              "      <th>age</th>\n",
              "      <th>weight</th>\n",
              "      <th>blood_pressure_meds</th>\n",
              "      <th>general_health</th>\n",
              "      <th>fruit_juice</th>\n",
              "      <th>pneumonia_shot</th>\n",
              "      <th>race</th>\n",
              "      <th>cholesterol_check</th>\n",
              "      <th>high_cholesterol</th>\n",
              "      <th>height</th>\n",
              "      <th>cognitive_decline</th>\n",
              "      <th>alcohol</th>\n",
              "      <th>fruit</th>\n",
              "      <th>kidney_health</th>\n",
              "      <th>physical_health</th>\n",
              "      <th>sex</th>\n",
              "      <th>shingles_vaccine</th>\n",
              "      <th>other_veg</th>\n",
              "      <th>green_veg</th>\n",
              "      <th>cigarettes</th>\n",
              "      <th>employment</th>\n",
              "      <th>sodium</th>\n",
              "      <th>type2_diabetes</th>\n",
              "    </tr>\n",
              "  </thead>\n",
              "  <tbody>\n",
              "    <tr>\n",
              "      <th>0</th>\n",
              "      <td>0.169308</td>\n",
              "      <td>0.074352</td>\n",
              "      <td>0.171900</td>\n",
              "      <td>0.230504</td>\n",
              "      <td>0.266355</td>\n",
              "      <td>0.296992</td>\n",
              "      <td>0.112202</td>\n",
              "      <td>0.212869</td>\n",
              "      <td>0.119337</td>\n",
              "      <td>0.173159</td>\n",
              "      <td>0.225517</td>\n",
              "      <td>0.128326</td>\n",
              "      <td>0.111739</td>\n",
              "      <td>0.180150</td>\n",
              "      <td>0.128318</td>\n",
              "      <td>0.119388</td>\n",
              "      <td>0.214877</td>\n",
              "      <td>0.123972</td>\n",
              "      <td>0.124384</td>\n",
              "      <td>0.128453</td>\n",
              "      <td>0.127072</td>\n",
              "      <td>0.097530</td>\n",
              "      <td>0.292054</td>\n",
              "      <td>0.125268</td>\n",
              "      <td>0</td>\n",
              "    </tr>\n",
              "    <tr>\n",
              "      <th>1</th>\n",
              "      <td>0.169308</td>\n",
              "      <td>0.074352</td>\n",
              "      <td>0.113065</td>\n",
              "      <td>0.115439</td>\n",
              "      <td>0.053195</td>\n",
              "      <td>0.089652</td>\n",
              "      <td>0.112202</td>\n",
              "      <td>0.076920</td>\n",
              "      <td>0.119337</td>\n",
              "      <td>0.027878</td>\n",
              "      <td>0.083594</td>\n",
              "      <td>0.128326</td>\n",
              "      <td>0.264431</td>\n",
              "      <td>0.180150</td>\n",
              "      <td>0.128318</td>\n",
              "      <td>0.119388</td>\n",
              "      <td>0.094261</td>\n",
              "      <td>0.123972</td>\n",
              "      <td>0.124384</td>\n",
              "      <td>0.128453</td>\n",
              "      <td>0.127072</td>\n",
              "      <td>0.113719</td>\n",
              "      <td>0.134980</td>\n",
              "      <td>0.098757</td>\n",
              "      <td>0</td>\n",
              "    </tr>\n",
              "    <tr>\n",
              "      <th>2</th>\n",
              "      <td>0.169308</td>\n",
              "      <td>0.074352</td>\n",
              "      <td>0.218709</td>\n",
              "      <td>0.056077</td>\n",
              "      <td>0.053195</td>\n",
              "      <td>0.296992</td>\n",
              "      <td>0.122087</td>\n",
              "      <td>0.119395</td>\n",
              "      <td>0.119337</td>\n",
              "      <td>0.173159</td>\n",
              "      <td>0.225517</td>\n",
              "      <td>0.122700</td>\n",
              "      <td>0.111739</td>\n",
              "      <td>0.113072</td>\n",
              "      <td>0.123805</td>\n",
              "      <td>0.119388</td>\n",
              "      <td>0.214877</td>\n",
              "      <td>0.123972</td>\n",
              "      <td>0.124384</td>\n",
              "      <td>0.125341</td>\n",
              "      <td>0.123034</td>\n",
              "      <td>0.113719</td>\n",
              "      <td>0.200757</td>\n",
              "      <td>0.125268</td>\n",
              "      <td>0</td>\n",
              "    </tr>\n",
              "    <tr>\n",
              "      <th>3</th>\n",
              "      <td>0.169308</td>\n",
              "      <td>0.074352</td>\n",
              "      <td>0.171900</td>\n",
              "      <td>0.115439</td>\n",
              "      <td>0.266355</td>\n",
              "      <td>0.296992</td>\n",
              "      <td>0.153444</td>\n",
              "      <td>0.212869</td>\n",
              "      <td>0.119337</td>\n",
              "      <td>0.173159</td>\n",
              "      <td>0.225517</td>\n",
              "      <td>0.128326</td>\n",
              "      <td>0.264431</td>\n",
              "      <td>0.180150</td>\n",
              "      <td>0.128318</td>\n",
              "      <td>0.119388</td>\n",
              "      <td>0.277691</td>\n",
              "      <td>0.123972</td>\n",
              "      <td>0.124384</td>\n",
              "      <td>0.128453</td>\n",
              "      <td>0.127072</td>\n",
              "      <td>0.113719</td>\n",
              "      <td>0.292054</td>\n",
              "      <td>0.098757</td>\n",
              "      <td>0</td>\n",
              "    </tr>\n",
              "    <tr>\n",
              "      <th>4</th>\n",
              "      <td>0.169308</td>\n",
              "      <td>0.074352</td>\n",
              "      <td>0.171900</td>\n",
              "      <td>0.056077</td>\n",
              "      <td>0.053195</td>\n",
              "      <td>0.296992</td>\n",
              "      <td>0.122087</td>\n",
              "      <td>0.212869</td>\n",
              "      <td>0.119337</td>\n",
              "      <td>0.173159</td>\n",
              "      <td>0.083594</td>\n",
              "      <td>0.128326</td>\n",
              "      <td>0.164604</td>\n",
              "      <td>0.180150</td>\n",
              "      <td>0.128318</td>\n",
              "      <td>0.119388</td>\n",
              "      <td>0.256335</td>\n",
              "      <td>0.123972</td>\n",
              "      <td>0.124384</td>\n",
              "      <td>0.128453</td>\n",
              "      <td>0.127072</td>\n",
              "      <td>0.113719</td>\n",
              "      <td>0.292054</td>\n",
              "      <td>0.198241</td>\n",
              "      <td>0</td>\n",
              "    </tr>\n",
              "    <tr>\n",
              "      <th>...</th>\n",
              "      <td>...</td>\n",
              "      <td>...</td>\n",
              "      <td>...</td>\n",
              "      <td>...</td>\n",
              "      <td>...</td>\n",
              "      <td>...</td>\n",
              "      <td>...</td>\n",
              "      <td>...</td>\n",
              "      <td>...</td>\n",
              "      <td>...</td>\n",
              "      <td>...</td>\n",
              "      <td>...</td>\n",
              "      <td>...</td>\n",
              "      <td>...</td>\n",
              "      <td>...</td>\n",
              "      <td>...</td>\n",
              "      <td>...</td>\n",
              "      <td>...</td>\n",
              "      <td>...</td>\n",
              "      <td>...</td>\n",
              "      <td>...</td>\n",
              "      <td>...</td>\n",
              "      <td>...</td>\n",
              "      <td>...</td>\n",
              "      <td>...</td>\n",
              "    </tr>\n",
              "    <tr>\n",
              "      <th>441451</th>\n",
              "      <td>0.201110</td>\n",
              "      <td>0.151725</td>\n",
              "      <td>0.218709</td>\n",
              "      <td>0.043446</td>\n",
              "      <td>0.266355</td>\n",
              "      <td>0.296992</td>\n",
              "      <td>0.112202</td>\n",
              "      <td>0.076920</td>\n",
              "      <td>0.140718</td>\n",
              "      <td>0.173159</td>\n",
              "      <td>0.225517</td>\n",
              "      <td>0.128326</td>\n",
              "      <td>0.164604</td>\n",
              "      <td>0.180150</td>\n",
              "      <td>0.147174</td>\n",
              "      <td>0.119388</td>\n",
              "      <td>0.094261</td>\n",
              "      <td>0.123972</td>\n",
              "      <td>0.124384</td>\n",
              "      <td>0.128453</td>\n",
              "      <td>0.175943</td>\n",
              "      <td>0.113719</td>\n",
              "      <td>0.200757</td>\n",
              "      <td>0.198241</td>\n",
              "      <td>1</td>\n",
              "    </tr>\n",
              "    <tr>\n",
              "      <th>441452</th>\n",
              "      <td>0.201110</td>\n",
              "      <td>0.151725</td>\n",
              "      <td>0.000065</td>\n",
              "      <td>0.115439</td>\n",
              "      <td>0.053195</td>\n",
              "      <td>0.089652</td>\n",
              "      <td>0.112202</td>\n",
              "      <td>0.076920</td>\n",
              "      <td>0.140718</td>\n",
              "      <td>0.173159</td>\n",
              "      <td>0.083594</td>\n",
              "      <td>0.128326</td>\n",
              "      <td>0.111739</td>\n",
              "      <td>0.180150</td>\n",
              "      <td>0.128318</td>\n",
              "      <td>0.119388</td>\n",
              "      <td>0.094261</td>\n",
              "      <td>0.123972</td>\n",
              "      <td>0.124384</td>\n",
              "      <td>0.128453</td>\n",
              "      <td>0.127072</td>\n",
              "      <td>0.113719</td>\n",
              "      <td>0.070031</td>\n",
              "      <td>0.198241</td>\n",
              "      <td>0</td>\n",
              "    </tr>\n",
              "    <tr>\n",
              "      <th>441453</th>\n",
              "      <td>0.201110</td>\n",
              "      <td>0.151725</td>\n",
              "      <td>0.218709</td>\n",
              "      <td>0.230504</td>\n",
              "      <td>0.266355</td>\n",
              "      <td>0.296992</td>\n",
              "      <td>0.122087</td>\n",
              "      <td>0.119395</td>\n",
              "      <td>0.140718</td>\n",
              "      <td>0.173159</td>\n",
              "      <td>0.225517</td>\n",
              "      <td>0.128326</td>\n",
              "      <td>0.111739</td>\n",
              "      <td>0.093876</td>\n",
              "      <td>0.123805</td>\n",
              "      <td>0.119388</td>\n",
              "      <td>0.094261</td>\n",
              "      <td>0.123972</td>\n",
              "      <td>0.124384</td>\n",
              "      <td>0.125341</td>\n",
              "      <td>0.123034</td>\n",
              "      <td>0.189050</td>\n",
              "      <td>0.200757</td>\n",
              "      <td>0.125268</td>\n",
              "      <td>0</td>\n",
              "    </tr>\n",
              "    <tr>\n",
              "      <th>441454</th>\n",
              "      <td>0.201110</td>\n",
              "      <td>0.151725</td>\n",
              "      <td>0.113065</td>\n",
              "      <td>0.056077</td>\n",
              "      <td>0.266355</td>\n",
              "      <td>0.089652</td>\n",
              "      <td>0.112202</td>\n",
              "      <td>0.076920</td>\n",
              "      <td>0.140718</td>\n",
              "      <td>0.173159</td>\n",
              "      <td>0.083594</td>\n",
              "      <td>0.122700</td>\n",
              "      <td>0.164604</td>\n",
              "      <td>0.180150</td>\n",
              "      <td>0.128318</td>\n",
              "      <td>0.119388</td>\n",
              "      <td>0.094261</td>\n",
              "      <td>0.134777</td>\n",
              "      <td>0.124384</td>\n",
              "      <td>0.128453</td>\n",
              "      <td>0.127072</td>\n",
              "      <td>0.113719</td>\n",
              "      <td>0.134980</td>\n",
              "      <td>0.198241</td>\n",
              "      <td>0</td>\n",
              "    </tr>\n",
              "    <tr>\n",
              "      <th>441455</th>\n",
              "      <td>0.201110</td>\n",
              "      <td>0.151725</td>\n",
              "      <td>0.171900</td>\n",
              "      <td>0.056077</td>\n",
              "      <td>0.266355</td>\n",
              "      <td>0.089652</td>\n",
              "      <td>0.112202</td>\n",
              "      <td>0.076920</td>\n",
              "      <td>0.140718</td>\n",
              "      <td>0.173159</td>\n",
              "      <td>0.225517</td>\n",
              "      <td>0.128326</td>\n",
              "      <td>0.164604</td>\n",
              "      <td>0.180150</td>\n",
              "      <td>0.128318</td>\n",
              "      <td>0.119388</td>\n",
              "      <td>0.094261</td>\n",
              "      <td>0.123972</td>\n",
              "      <td>0.124384</td>\n",
              "      <td>0.128453</td>\n",
              "      <td>0.127072</td>\n",
              "      <td>0.113719</td>\n",
              "      <td>0.200757</td>\n",
              "      <td>0.198241</td>\n",
              "      <td>1</td>\n",
              "    </tr>\n",
              "  </tbody>\n",
              "</table>\n",
              "<p>441456 rows × 25 columns</p>\n",
              "</div>"
            ],
            "text/plain": [
              "           state  prediabetes       age  ...  employment    sodium  type2_diabetes\n",
              "0       0.169308     0.074352  0.171900  ...    0.292054  0.125268               0\n",
              "1       0.169308     0.074352  0.113065  ...    0.134980  0.098757               0\n",
              "2       0.169308     0.074352  0.218709  ...    0.200757  0.125268               0\n",
              "3       0.169308     0.074352  0.171900  ...    0.292054  0.098757               0\n",
              "4       0.169308     0.074352  0.171900  ...    0.292054  0.198241               0\n",
              "...          ...          ...       ...  ...         ...       ...             ...\n",
              "441451  0.201110     0.151725  0.218709  ...    0.200757  0.198241               1\n",
              "441452  0.201110     0.151725  0.000065  ...    0.070031  0.198241               0\n",
              "441453  0.201110     0.151725  0.218709  ...    0.200757  0.125268               0\n",
              "441454  0.201110     0.151725  0.113065  ...    0.134980  0.198241               0\n",
              "441455  0.201110     0.151725  0.171900  ...    0.200757  0.198241               1\n",
              "\n",
              "[441456 rows x 25 columns]"
            ]
          },
          "metadata": {},
          "execution_count": 3
        }
      ]
    },
    {
      "cell_type": "code",
      "metadata": {
        "colab": {
          "base_uri": "https://localhost:8080/"
        },
        "id": "EVmRsPsoP90D",
        "outputId": "bc47c61f-429c-46c8-c454-3e1fd64fd15e"
      },
      "source": [
        "#confirm all missing values are imputed\n",
        "df.columns[df.isnull().any()]"
      ],
      "execution_count": null,
      "outputs": [
        {
          "output_type": "execute_result",
          "data": {
            "text/plain": [
              "Index([], dtype='object')"
            ]
          },
          "metadata": {},
          "execution_count": 4
        }
      ]
    },
    {
      "cell_type": "markdown",
      "metadata": {
        "id": "_9DEGwPOhhxR"
      },
      "source": [
        "# Preparing the data"
      ]
    },
    {
      "cell_type": "code",
      "metadata": {
        "colab": {
          "base_uri": "https://localhost:8080/"
        },
        "id": "CoQoY1-oHK0t",
        "outputId": "e541e414-164a-4ccb-ff88-3aa1642dcab8"
      },
      "source": [
        "df['type2_diabetes'].value_counts()"
      ],
      "execution_count": null,
      "outputs": [
        {
          "output_type": "execute_result",
          "data": {
            "text/plain": [
              "0    384708\n",
              "1     56748\n",
              "Name: type2_diabetes, dtype: int64"
            ]
          },
          "metadata": {},
          "execution_count": 6
        }
      ]
    },
    {
      "cell_type": "markdown",
      "metadata": {
        "id": "IQw5Hn6DHaEf"
      },
      "source": [
        "1 = 6.77 percent of total observations. This is greater than 5%, which means it is okay to use, but let's address this imbalance with the LightGBM parameter 'sample_pos_weight'. The parameter sample_pos_weight = number of negative samples / number of positive samples. In this case that is sample_pos_weight = 384708 / 56748, which is the 6.77 or 6.8 percent we identified."
      ]
    },
    {
      "cell_type": "code",
      "metadata": {
        "id": "G4YUo-JBc1Bk"
      },
      "source": [
        "#copy of df as appropriate type for LightGBM\n",
        "df1 = df\n",
        "\n",
        "#split data into X and y\n",
        "X,y = df1.drop(['type2_diabetes'], axis = 1), df1['type2_diabetes']\n",
        "#split data 70/30 train/test sets\n",
        "X_train, X_test, y_train, y_test = train_test_split(X, y, test_size=0.3)"
      ],
      "execution_count": null,
      "outputs": []
    },
    {
      "cell_type": "markdown",
      "metadata": {
        "id": "ADxmn-fniJGe"
      },
      "source": [
        "# LightGBM ensemble for binary classification"
      ]
    },
    {
      "cell_type": "markdown",
      "metadata": {
        "id": "giUqfLpiyYzy"
      },
      "source": [
        "The goal of a binary classification problem is to create a machine learning model that makes a prediction in situations where the thing to predict can take one of just two possible values. For this study, we want to predict whether a person is diabetic(1) or not diabetic(2) based on the 24 predictor variables selected."
      ]
    },
    {
      "cell_type": "markdown",
      "metadata": {
        "id": "lPphrHF7mqIr"
      },
      "source": [
        "## baseline model"
      ]
    },
    {
      "cell_type": "markdown",
      "metadata": {
        "id": "7NjDRnqimzLM"
      },
      "source": [
        "To create a baseline model of the LightGBM algorithm we will use its default parameters to see how it performs on the dataset. We will then evaluate the model using repeated stratified k-fold cross-validation with three repeats and 10 folds. We will report the mean and standard deviation of the accuracy of the model across all repeats and folds.\n",
        "\n",
        "**Note:** Your results may vary given the stochastic nature of the algorithm or evaluation procedure, or differences in numerical precision."
      ]
    },
    {
      "cell_type": "code",
      "metadata": {
        "colab": {
          "base_uri": "https://localhost:8080/"
        },
        "id": "KMf8071FlMOM",
        "outputId": "727ce422-5a03-4819-9d2a-c29b4ea2982b"
      },
      "source": [
        "#define the model\n",
        "model = lgb.LGBMClassifier()\n",
        "\n",
        "#evaluate the model\n",
        "cv = RepeatedStratifiedKFold(n_splits=10, n_repeats=3, random_state=1)\n",
        "n_scores = cross_val_score(model, X, y, scoring='accuracy', cv=cv, n_jobs=-1)\n",
        "\n",
        "#report performance\n",
        "print('Accuracy: %.3f (%.3f)' % (mean(n_scores), std(n_scores)))"
      ],
      "execution_count": null,
      "outputs": [
        {
          "output_type": "stream",
          "name": "stdout",
          "text": [
            "Accuracy: 0.908 (0.001)\n"
          ]
        }
      ]
    },
    {
      "cell_type": "markdown",
      "metadata": {
        "id": "JkFM1gXgn4Z2"
      },
      "source": [
        "We can see from the outcome the LightGBM algorithm with default hyperparameters achieves a **classification accuracy of about 90.8%** on the entire dataset. Therefore, we will use this baseline of performance that we want to out perform. \n",
        "\n",
        "Now, let's see improve the classification accuracy by exploring this algorithm's hyperparameters."
      ]
    },
    {
      "cell_type": "markdown",
      "metadata": {
        "id": "lUfkGi-srMpk"
      },
      "source": [
        "## hyperparameter tuning: number of trees"
      ]
    },
    {
      "cell_type": "markdown",
      "metadata": {
        "id": "1t1SBQaesSob"
      },
      "source": [
        "An important hyperparameter for the LightGBM ensemble algorithm is the number of decision trees used in the ensemble.\n",
        "\n",
        "Recall that decision trees are added to the model sequentially in an effort to correct and improve upon the predictions made by prior trees. As such, more trees are often better. The number of trees can be set via the “n_estimators” argument and defaults to 100.\n",
        "\n",
        "The code below explores the effect of the number of trees with values between 10 to 5,000."
      ]
    },
    {
      "cell_type": "code",
      "metadata": {
        "colab": {
          "base_uri": "https://localhost:8080/",
          "height": 367
        },
        "id": "NBlbn9ursnut",
        "outputId": "d91c12aa-3777-48b2-ea92-ed0f99273446"
      },
      "source": [
        "#get a list of models to evaluate\n",
        "def get_models():\n",
        "\tmodels = dict()\n",
        "\ttrees = [10, 50, 100, 500, 1000, 5000]\n",
        "\tfor n in trees:\n",
        "\t\tmodels[str(n)] = LGBMClassifier(n_estimators=n)\n",
        "\treturn models\n",
        "\n",
        "#evaluate a give model using cross-validation\n",
        "def evaluate_model(model):\n",
        "\tcv = RepeatedStratifiedKFold(n_splits=10, n_repeats=3, random_state=1)\n",
        "\tscores = cross_val_score(model, X, y, scoring='accuracy', cv=cv, n_jobs=-1)\n",
        "\treturn scores\n",
        "  \n",
        "#get the models to evaluate\n",
        "models = get_models()\n",
        "\n",
        "#evaluate the models and store results\n",
        "results, names = list(), list()\n",
        "for name, model in models.items():\n",
        "\tscores = evaluate_model(model)\n",
        "\tresults.append(scores)\n",
        "\tnames.append(name)\n",
        "\tprint('>%s %.3f (%.3f)' % (name, mean(scores), std(scores)))\n",
        "\n",
        "#plot model performance for comparison\n",
        "pyplot.boxplot(results, labels=names, showmeans=True)\n",
        "pyplot.show()"
      ],
      "execution_count": null,
      "outputs": [
        {
          "output_type": "stream",
          "name": "stdout",
          "text": [
            ">10 0.892 (0.001)\n",
            ">50 0.906 (0.001)\n",
            ">100 0.908 (0.001)\n",
            ">500 0.909 (0.001)\n",
            ">1000 0.908 (0.001)\n",
            ">5000 0.906 (0.001)\n"
          ]
        },
        {
          "output_type": "display_data",
          "data": {
            "image/png": "[encoded data removed]",
            "text/plain": [
              "<Figure size 432x288 with 1 Axes>"
            ]
          },
          "metadata": {
            "needs_background": "light"
          }
        }
      ]
    },
    {
      "cell_type": "markdown",
      "metadata": {
        "id": "ehpQq1oIxwdP"
      },
      "source": [
        "From the output we can see that that performance improves on this dataset until about 500 trees, after which performance appears to level off."
      ]
    },
    {
      "cell_type": "markdown",
      "metadata": {
        "id": "Xo9uo31mFkKo"
      },
      "source": [
        "## hyperparameter tuning: tree depth"
      ]
    },
    {
      "cell_type": "markdown",
      "metadata": {
        "id": "LbYx3h_YFqUH"
      },
      "source": [
        "Varying the depth of each tree added to the ensemble is another important hyperparameter for gradient boosting.\n",
        "\n",
        "The tree depth controls how specialized each tree is to the training dataset: how general or overfit it might be. Tree depth is controlled via the “max_depth” argument and defaults to an unspecified value as the default mechanism for controlling how complex trees are, is to use the number of leaf nodes.\n",
        "\n",
        "There are two main ways to control tree complexity: the max depth of the trees and the maximum number of terminal nodes (leaves) in the tree. In this case, we are exploring the number of leaves so we need to increase the number of leaves to support deeper trees by setting the “num_leaves” argument.\n",
        "\n",
        "The code belows explores tree depths between 1 and 10 and the effect on model performance."
      ]
    },
    {
      "cell_type": "code",
      "metadata": {
        "colab": {
          "base_uri": "https://localhost:8080/",
          "height": 435
        },
        "id": "WCtQGxDfGhbb",
        "outputId": "1eb72625-dfcc-4e43-ee03-ddb99822eec9"
      },
      "source": [
        "#get a list of models to evaluate\n",
        "def get_models():\n",
        "\tmodels = dict()\n",
        "\tfor i in range(1,11):\n",
        "\t\tmodels[str(i)] = LGBMClassifier(max_depth=i, num_leaves=2**i)\n",
        "\treturn models\n",
        " \n",
        "#evaluate a give model using cross-validation\n",
        "def evaluate_model(model):\n",
        "\tcv = RepeatedStratifiedKFold(n_splits=10, n_repeats=3, random_state=1)\n",
        "\tscores = cross_val_score(model, X, y, scoring='accuracy', cv=cv, n_jobs=-1)\n",
        "\treturn scores\n",
        " \n",
        "#get the models to evaluate\n",
        "models = get_models()\n",
        "\n",
        "#evaluate the models and store results\n",
        "results, names = list(), list()\n",
        "for name, model in models.items():\n",
        "\tscores = evaluate_model(model)\n",
        "\tresults.append(scores)\n",
        "\tnames.append(name)\n",
        "\tprint('>%s %.3f (%.3f)' % (name, mean(scores), std(scores)))\n",
        " \n",
        "#plot model performance for comparison\n",
        "pyplot.boxplot(results, labels=names, showmeans=True)\n",
        "pyplot.show()"
      ],
      "execution_count": null,
      "outputs": [
        {
          "output_type": "stream",
          "name": "stdout",
          "text": [
            ">1 0.883 (0.001)\n",
            ">2 0.895 (0.001)\n",
            ">3 0.900 (0.001)\n",
            ">4 0.904 (0.001)\n",
            ">5 0.906 (0.001)\n",
            ">6 0.907 (0.001)\n",
            ">7 0.907 (0.001)\n",
            ">8 0.908 (0.001)\n",
            ">9 0.908 (0.001)\n",
            ">10 0.908 (0.001)\n"
          ]
        },
        {
          "output_type": "display_data",
          "data": {
            "image/png": "[encoded data removed]",
            "text/plain": [
              "<Figure size 432x288 with 1 Axes>"
            ]
          },
          "metadata": {
            "needs_background": "light"
          }
        }
      ]
    },
    {
      "cell_type": "markdown",
      "metadata": {
        "id": "VtFkIOf1Gh23"
      },
      "source": [
        "From the output, we can see that performance improves clearly with tree depth to level 8. However, in the box and whisker plot performance appears to slightly continue to improve with tree depth to level 9, after which performance begins to sit reasonably flat.\n",
        "\n",
        "**Note:** the 'num_leaves' parameter was explored as well, resulting in a value of 2^9 = 512 for parameter 'num_leaves' instead of the default value of 31."
      ]
    },
    {
      "cell_type": "markdown",
      "metadata": {
        "id": "l-SZiMpeYHmu"
      },
      "source": [
        "## hyperparameter tuning: learning rate"
      ]
    },
    {
      "cell_type": "markdown",
      "metadata": {
        "id": "OG5U7ltCYON4"
      },
      "source": [
        "Learning rate controls the amount of contribution that each model has on the ensemble prediction. Smaller rates may require more decision trees in the ensemble. The learning rate can be controlled via the “learning_rate” argument and defaults to 0.1.\n",
        "\n",
        "The code below explores the learning rate and compares the effect of values between 0.0001 and 1.0."
      ]
    },
    {
      "cell_type": "code",
      "metadata": {
        "colab": {
          "base_uri": "https://localhost:8080/",
          "height": 350
        },
        "id": "ActIZexiYS7u",
        "outputId": "bd567075-5eb0-4beb-ea0c-84ccd9185b65"
      },
      "source": [
        "#get a list of models to evaluate\n",
        "def get_models():\n",
        "\tmodels = dict()\n",
        "\trates = [0.0001, 0.001, 0.01, 0.1, 1.0]\n",
        "\tfor r in rates:\n",
        "\t\tkey = '%.4f' % r\n",
        "\t\tmodels[key] = LGBMClassifier(learning_rate=r)\n",
        "\treturn models\n",
        " \n",
        "#evaluate a give model using cross-validation\n",
        "def evaluate_model(model):\n",
        "\tcv = RepeatedStratifiedKFold(n_splits=10, n_repeats=3, random_state=1)\n",
        "\tscores = cross_val_score(model, X, y, scoring='accuracy', cv=cv, n_jobs=-1)\n",
        "\treturn scores\n",
        " \n",
        "#get the models to evaluate\n",
        "models = get_models()\n",
        "\n",
        "#evaluate the models and store results\n",
        "results, names = list(), list()\n",
        "for name, model in models.items():\n",
        "\tscores = evaluate_model(model)\n",
        "\tresults.append(scores)\n",
        "\tnames.append(name)\n",
        "\tprint('>%s %.3f (%.3f)' % (name, mean(scores), std(scores)))\n",
        " \n",
        "#plot model performance for comparison\n",
        "pyplot.boxplot(results, labels=names, showmeans=True)\n",
        "pyplot.show()"
      ],
      "execution_count": null,
      "outputs": [
        {
          "output_type": "stream",
          "name": "stdout",
          "text": [
            ">0.0001 0.871 (0.000)\n",
            ">0.0010 0.871 (0.000)\n",
            ">0.0100 0.890 (0.001)\n",
            ">0.1000 0.908 (0.001)\n",
            ">1.0000 0.898 (0.012)\n"
          ]
        },
        {
          "output_type": "display_data",
          "data": {
            "image/png": "[encoded data removed]",
            "text/plain": [
              "<Figure size 432x288 with 1 Axes>"
            ]
          },
          "metadata": {
            "needs_background": "light"
          }
        }
      ]
    },
    {
      "cell_type": "markdown",
      "metadata": {
        "id": "mzkpKX99ozPP"
      },
      "source": [
        "From the output we can see that a larger learning rate results in better performance on this dataset. In the box and whisker plot we can see the general trend of increasing model performance with the increase in learning rate all the way to the values of 1.0, after which performance appears to level off."
      ]
    },
    {
      "cell_type": "markdown",
      "metadata": {
        "id": "PPkA419_pr-Q"
      },
      "source": [
        "## hyperparameter tuning: boosting type"
      ]
    },
    {
      "cell_type": "markdown",
      "metadata": {
        "id": "nhYDDmuXpvkl"
      },
      "source": [
        "A feature of LightGBM is that it supports a number of different boosting algorithms, referred to as boosting types.\n",
        "\n",
        "The boosting type can be specified via the “boosting_type” argument and take a string to specify the type. The options include:\n",
        "\n",
        "- **‘gbdt‘:** Gradient Boosting Decision Tree (GDBT).\n",
        "- **‘dart‘:** Dropouts meet Multiple Additive Regression Trees (DART).\n",
        "- **‘goss‘:** Gradient-based One-Side Sampling (GOSS).\n",
        "\n",
        "The default is GDBT, which is the classical gradient boosting algorithm."
      ]
    },
    {
      "cell_type": "code",
      "metadata": {
        "colab": {
          "base_uri": "https://localhost:8080/",
          "height": 316
        },
        "id": "soAktojJqDA-",
        "outputId": "f57c170a-2ad9-4245-fd5f-fd8376404c28"
      },
      "source": [
        "#get a list of models to evaluate\n",
        "def get_models():\n",
        "\tmodels = dict()\n",
        "\ttypes = ['gbdt', 'dart', 'goss']\n",
        "\tfor t in types:\n",
        "\t\tmodels[t] = LGBMClassifier(boosting_type=t)\n",
        "\treturn models\n",
        " \n",
        "#evaluate a give model using cross-validation\n",
        "def evaluate_model(model):\n",
        "\tcv = RepeatedStratifiedKFold(n_splits=10, n_repeats=3, random_state=1)\n",
        "\tscores = cross_val_score(model, X, y, scoring='accuracy', cv=cv, n_jobs=-1)\n",
        "\treturn scores\n",
        " \n",
        "#get the models to evaluate\n",
        "models = get_models()\n",
        "\n",
        "#evaluate the models and store results\n",
        "results, names = list(), list()\n",
        "for name, model in models.items():\n",
        "\tscores = evaluate_model(model)\n",
        "\tresults.append(scores)\n",
        "\tnames.append(name)\n",
        "\tprint('>%s %.3f (%.3f)' % (name, mean(scores), std(scores)))\n",
        " \n",
        "#plot model performance for comparison\n",
        "pyplot.boxplot(results, labels=names, showmeans=True)\n",
        "pyplot.show()"
      ],
      "execution_count": null,
      "outputs": [
        {
          "output_type": "stream",
          "name": "stdout",
          "text": [
            ">gbdt 0.908 (0.001)\n",
            ">dart 0.905 (0.001)\n",
            ">goss 0.908 (0.001)\n"
          ]
        },
        {
          "output_type": "display_data",
          "data": {
            "image/png": "[encoded data removed]",
            "text/plain": [
              "<Figure size 432x288 with 1 Axes>"
            ]
          },
          "metadata": {
            "needs_background": "light"
          }
        }
      ]
    },
    {
      "cell_type": "markdown",
      "metadata": {
        "id": "ZRCmmNm8IZwz"
      },
      "source": [
        "From the output we can see that the gbdt and goss boosting method performed equally. However, in the box and whisker plot we can see that the default boosting method (gbdt) performed slightly better than the other two techniques that were evaluated."
      ]
    },
    {
      "cell_type": "markdown",
      "metadata": {
        "id": "FFRm7yp4ypXO"
      },
      "source": [
        "# Summary"
      ]
    },
    {
      "cell_type": "markdown",
      "metadata": {
        "id": "hRusXY5m-Ido"
      },
      "source": [
        "After establishing a baseline model performance of 90.8% using the default parameters for a LightGBM binary classification model, we were then able to explore hypertuning to improve the performance of the model. After focusing our efforts on the parameters number of trees (n_estimators), tree depth (max_depth), learning rate, and boosting type we were able to confirm the best parameters in terms of performance as 500 (default = 100), 9 (default = -1), 0.1 (default value), and gbdt (default value) respectively. Next, we will build a new LightGBM binary classification model with these parameters and explore it's performance."
      ]
    }
  ]
}